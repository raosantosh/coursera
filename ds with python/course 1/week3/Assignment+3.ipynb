{
 "cells": [
  {
   "cell_type": "markdown",
   "metadata": {},
   "source": [
    "---\n",
    "\n",
    "_You are currently looking at **version 1.5** of this notebook. To download notebooks and datafiles, as well as get help on Jupyter notebooks in the Coursera platform, visit the [Jupyter Notebook FAQ](https://www.coursera.org/learn/python-data-analysis/resources/0dhYG) course resource._\n",
    "\n",
    "---"
   ]
  },
  {
   "cell_type": "markdown",
   "metadata": {},
   "source": [
    "# Assignment 3 - More Pandas\n",
    "This assignment requires more individual learning then the last one did - you are encouraged to check out the [pandas documentation](http://pandas.pydata.org/pandas-docs/stable/) to find functions or methods you might not have used yet, or ask questions on [Stack Overflow](http://stackoverflow.com/) and tag them as pandas and python related. And of course, the discussion forums are open for interaction with your peers and the course staff."
   ]
  },
  {
   "cell_type": "markdown",
   "metadata": {},
   "source": [
    "### Question 1 (20%)\n",
    "Load the energy data from the file `Energy Indicators.xls`, which is a list of indicators of [energy supply and renewable electricity production](Energy%20Indicators.xls) from the [United Nations](http://unstats.un.org/unsd/environment/excel_file_tables/2013/Energy%20Indicators.xls) for the year 2013, and should be put into a DataFrame with the variable name of **energy**.\n",
    "\n",
    "Keep in mind that this is an Excel file, and not a comma separated values file. Also, make sure to exclude the footer and header information from the datafile. The first two columns are unneccessary, so you should get rid of them, and you should change the column labels so that the columns are:\n",
    "\n",
    "`['Country', 'Energy Supply', 'Energy Supply per Capita', '% Renewable']`\n",
    "\n",
    "Convert `Energy Supply` to gigajoules (there are 1,000,000 gigajoules in a petajoule). For all countries which have missing data (e.g. data with \"...\") make sure this is reflected as `np.NaN` values.\n",
    "\n",
    "Rename the following list of countries (for use in later questions):\n",
    "\n",
    "```\"Republic of Korea\": \"South Korea\",\n",
    "\"United States of America\": \"United States\",\n",
    "\"United Kingdom of Great Britain and Northern Ireland\": \"United Kingdom\",\n",
    "\"China, Hong Kong Special Administrative Region\": \"Hong Kong\"```\n",
    "\n",
    "There are also several countries with numbers and/or parenthesis in their name. Be sure to remove these, \n",
    "\n",
    "e.g. \n",
    "\n",
    "`'Bolivia (Plurinational State of)'` should be `'Bolivia'`, \n",
    "\n",
    "`'Switzerland17'` should be `'Switzerland'`.\n",
    "\n",
    "<br>\n",
    "\n",
    "Next, load the GDP data from the file `world_bank.csv`, which is a csv containing countries' GDP from 1960 to 2015 from [World Bank](http://data.worldbank.org/indicator/NY.GDP.MKTP.CD). Call this DataFrame **GDP**. \n",
    "\n",
    "Make sure to skip the header, and rename the following list of countries:\n",
    "\n",
    "```\"Korea, Rep.\": \"South Korea\", \n",
    "\"Iran, Islamic Rep.\": \"Iran\",\n",
    "\"Hong Kong SAR, China\": \"Hong Kong\"```\n",
    "\n",
    "<br>\n",
    "\n",
    "Finally, load the [Sciamgo Journal and Country Rank data for Energy Engineering and Power Technology](http://www.scimagojr.com/countryrank.php?category=2102) from the file `scimagojr-3.xlsx`, which ranks countries based on their journal contributions in the aforementioned area. Call this DataFrame **ScimEn**.\n",
    "\n",
    "Join the three datasets: GDP, Energy, and ScimEn into a new dataset (using the intersection of country names). Use only the last 10 years (2006-2015) of GDP data and only the top 15 countries by Scimagojr 'Rank' (Rank 1 through 15). \n",
    "\n",
    "The index of this DataFrame should be the name of the country, and the columns should be ['Rank', 'Documents', 'Citable documents', 'Citations', 'Self-citations',\n",
    "       'Citations per document', 'H index', 'Energy Supply',\n",
    "       'Energy Supply per Capita', '% Renewable', '2006', '2007', '2008',\n",
    "       '2009', '2010', '2011', '2012', '2013', '2014', '2015'].\n",
    "\n",
    "*This function should return a DataFrame with 20 columns and 15 entries.*"
   ]
  },
  {
   "cell_type": "code",
   "execution_count": 11,
   "metadata": {},
   "outputs": [
    {
     "name": "stdout",
     "output_type": "stream",
     "text": [
      "(15, 20)\n"
     ]
    },
    {
     "name": "stderr",
     "output_type": "stream",
     "text": [
      "/anaconda/lib/python3.6/site-packages/ipykernel_launcher.py:48: SettingWithCopyWarning: \n",
      "A value is trying to be set on a copy of a slice from a DataFrame\n",
      "\n",
      "See the caveats in the documentation: http://pandas.pydata.org/pandas-docs/stable/indexing.html#indexing-view-versus-copy\n"
     ]
    },
    {
     "data": {
      "text/html": [
       "<div>\n",
       "<style>\n",
       "    .dataframe thead tr:only-child th {\n",
       "        text-align: right;\n",
       "    }\n",
       "\n",
       "    .dataframe thead th {\n",
       "        text-align: left;\n",
       "    }\n",
       "\n",
       "    .dataframe tbody tr th {\n",
       "        vertical-align: top;\n",
       "    }\n",
       "</style>\n",
       "<table border=\"1\" class=\"dataframe\">\n",
       "  <thead>\n",
       "    <tr style=\"text-align: right;\">\n",
       "      <th></th>\n",
       "      <th>Rank</th>\n",
       "      <th>Documents</th>\n",
       "      <th>Citable documents</th>\n",
       "      <th>Citations</th>\n",
       "      <th>Self-citations</th>\n",
       "      <th>Citations per document</th>\n",
       "      <th>H index</th>\n",
       "      <th>Energy Supply</th>\n",
       "      <th>Energy Supply per Capita</th>\n",
       "      <th>% Renewable</th>\n",
       "      <th>2006</th>\n",
       "      <th>2007</th>\n",
       "      <th>2008</th>\n",
       "      <th>2009</th>\n",
       "      <th>2010</th>\n",
       "      <th>2011</th>\n",
       "      <th>2012</th>\n",
       "      <th>2013</th>\n",
       "      <th>2014</th>\n",
       "      <th>2015</th>\n",
       "    </tr>\n",
       "    <tr>\n",
       "      <th>Country</th>\n",
       "      <th></th>\n",
       "      <th></th>\n",
       "      <th></th>\n",
       "      <th></th>\n",
       "      <th></th>\n",
       "      <th></th>\n",
       "      <th></th>\n",
       "      <th></th>\n",
       "      <th></th>\n",
       "      <th></th>\n",
       "      <th></th>\n",
       "      <th></th>\n",
       "      <th></th>\n",
       "      <th></th>\n",
       "      <th></th>\n",
       "      <th></th>\n",
       "      <th></th>\n",
       "      <th></th>\n",
       "      <th></th>\n",
       "      <th></th>\n",
       "    </tr>\n",
       "  </thead>\n",
       "  <tbody>\n",
       "    <tr>\n",
       "      <th>China</th>\n",
       "      <td>1</td>\n",
       "      <td>147887</td>\n",
       "      <td>147512</td>\n",
       "      <td>856806</td>\n",
       "      <td>583858</td>\n",
       "      <td>5.79</td>\n",
       "      <td>162</td>\n",
       "      <td>1.271910e+11</td>\n",
       "      <td>93.0</td>\n",
       "      <td>19.754910</td>\n",
       "      <td>2.752132e+12</td>\n",
       "      <td>3.552183e+12</td>\n",
       "      <td>4.598205e+12</td>\n",
       "      <td>5.109954e+12</td>\n",
       "      <td>6.100620e+12</td>\n",
       "      <td>7.572554e+12</td>\n",
       "      <td>8.560547e+12</td>\n",
       "      <td>9.607224e+12</td>\n",
       "      <td>1.048237e+13</td>\n",
       "      <td>1.106466e+13</td>\n",
       "    </tr>\n",
       "    <tr>\n",
       "      <th>United States</th>\n",
       "      <td>2</td>\n",
       "      <td>113579</td>\n",
       "      <td>111426</td>\n",
       "      <td>1085684</td>\n",
       "      <td>370574</td>\n",
       "      <td>9.56</td>\n",
       "      <td>259</td>\n",
       "      <td>9.083800e+10</td>\n",
       "      <td>286.0</td>\n",
       "      <td>11.570980</td>\n",
       "      <td>1.385589e+13</td>\n",
       "      <td>1.447764e+13</td>\n",
       "      <td>1.471858e+13</td>\n",
       "      <td>1.441874e+13</td>\n",
       "      <td>1.496437e+13</td>\n",
       "      <td>1.551793e+13</td>\n",
       "      <td>1.615526e+13</td>\n",
       "      <td>1.669152e+13</td>\n",
       "      <td>1.739310e+13</td>\n",
       "      <td>1.803665e+13</td>\n",
       "    </tr>\n",
       "    <tr>\n",
       "      <th>Japan</th>\n",
       "      <td>3</td>\n",
       "      <td>34294</td>\n",
       "      <td>34054</td>\n",
       "      <td>275980</td>\n",
       "      <td>73491</td>\n",
       "      <td>8.05</td>\n",
       "      <td>145</td>\n",
       "      <td>1.898400e+10</td>\n",
       "      <td>149.0</td>\n",
       "      <td>10.232820</td>\n",
       "      <td>4.530377e+12</td>\n",
       "      <td>4.515265e+12</td>\n",
       "      <td>5.037908e+12</td>\n",
       "      <td>5.231383e+12</td>\n",
       "      <td>5.700098e+12</td>\n",
       "      <td>6.157460e+12</td>\n",
       "      <td>6.203213e+12</td>\n",
       "      <td>5.155717e+12</td>\n",
       "      <td>4.848733e+12</td>\n",
       "      <td>4.383076e+12</td>\n",
       "    </tr>\n",
       "    <tr>\n",
       "      <th>United Kingdom</th>\n",
       "      <td>4</td>\n",
       "      <td>24328</td>\n",
       "      <td>23671</td>\n",
       "      <td>278694</td>\n",
       "      <td>52119</td>\n",
       "      <td>11.46</td>\n",
       "      <td>159</td>\n",
       "      <td>7.920000e+09</td>\n",
       "      <td>124.0</td>\n",
       "      <td>10.600470</td>\n",
       "      <td>2.678278e+12</td>\n",
       "      <td>3.063005e+12</td>\n",
       "      <td>2.875463e+12</td>\n",
       "      <td>2.367127e+12</td>\n",
       "      <td>2.429680e+12</td>\n",
       "      <td>2.608825e+12</td>\n",
       "      <td>2.646003e+12</td>\n",
       "      <td>2.719509e+12</td>\n",
       "      <td>2.998834e+12</td>\n",
       "      <td>2.861091e+12</td>\n",
       "    </tr>\n",
       "    <tr>\n",
       "      <th>India</th>\n",
       "      <td>5</td>\n",
       "      <td>21450</td>\n",
       "      <td>21183</td>\n",
       "      <td>179494</td>\n",
       "      <td>54929</td>\n",
       "      <td>8.37</td>\n",
       "      <td>132</td>\n",
       "      <td>3.319500e+10</td>\n",
       "      <td>26.0</td>\n",
       "      <td>14.969080</td>\n",
       "      <td>9.203165e+11</td>\n",
       "      <td>1.201112e+12</td>\n",
       "      <td>1.186953e+12</td>\n",
       "      <td>1.323940e+12</td>\n",
       "      <td>1.656617e+12</td>\n",
       "      <td>1.823050e+12</td>\n",
       "      <td>1.827638e+12</td>\n",
       "      <td>1.856722e+12</td>\n",
       "      <td>2.035393e+12</td>\n",
       "      <td>2.111751e+12</td>\n",
       "    </tr>\n",
       "    <tr>\n",
       "      <th>Russian Federation</th>\n",
       "      <td>6</td>\n",
       "      <td>21259</td>\n",
       "      <td>20915</td>\n",
       "      <td>45629</td>\n",
       "      <td>17368</td>\n",
       "      <td>2.15</td>\n",
       "      <td>65</td>\n",
       "      <td>3.070900e+10</td>\n",
       "      <td>214.0</td>\n",
       "      <td>17.288680</td>\n",
       "      <td>9.899305e+11</td>\n",
       "      <td>1.299705e+12</td>\n",
       "      <td>1.660844e+12</td>\n",
       "      <td>1.222644e+12</td>\n",
       "      <td>1.524916e+12</td>\n",
       "      <td>2.031769e+12</td>\n",
       "      <td>2.170144e+12</td>\n",
       "      <td>2.230625e+12</td>\n",
       "      <td>2.063662e+12</td>\n",
       "      <td>1.365865e+12</td>\n",
       "    </tr>\n",
       "    <tr>\n",
       "      <th>Germany</th>\n",
       "      <td>7</td>\n",
       "      <td>20898</td>\n",
       "      <td>20640</td>\n",
       "      <td>193676</td>\n",
       "      <td>39615</td>\n",
       "      <td>9.27</td>\n",
       "      <td>140</td>\n",
       "      <td>1.326100e+10</td>\n",
       "      <td>165.0</td>\n",
       "      <td>17.901530</td>\n",
       "      <td>3.002446e+12</td>\n",
       "      <td>3.439953e+12</td>\n",
       "      <td>3.752366e+12</td>\n",
       "      <td>3.418005e+12</td>\n",
       "      <td>3.417095e+12</td>\n",
       "      <td>3.757698e+12</td>\n",
       "      <td>3.543984e+12</td>\n",
       "      <td>3.752514e+12</td>\n",
       "      <td>3.879277e+12</td>\n",
       "      <td>3.363600e+12</td>\n",
       "    </tr>\n",
       "    <tr>\n",
       "      <th>Canada</th>\n",
       "      <td>8</td>\n",
       "      <td>20689</td>\n",
       "      <td>20353</td>\n",
       "      <td>285554</td>\n",
       "      <td>53955</td>\n",
       "      <td>13.80</td>\n",
       "      <td>165</td>\n",
       "      <td>1.043100e+10</td>\n",
       "      <td>296.0</td>\n",
       "      <td>61.945430</td>\n",
       "      <td>1.315415e+12</td>\n",
       "      <td>1.464977e+12</td>\n",
       "      <td>1.549131e+12</td>\n",
       "      <td>1.371153e+12</td>\n",
       "      <td>1.613464e+12</td>\n",
       "      <td>1.788648e+12</td>\n",
       "      <td>1.824289e+12</td>\n",
       "      <td>1.842628e+12</td>\n",
       "      <td>1.792883e+12</td>\n",
       "      <td>1.552808e+12</td>\n",
       "    </tr>\n",
       "    <tr>\n",
       "      <th>France</th>\n",
       "      <td>9</td>\n",
       "      <td>15584</td>\n",
       "      <td>15387</td>\n",
       "      <td>173959</td>\n",
       "      <td>37411</td>\n",
       "      <td>11.16</td>\n",
       "      <td>129</td>\n",
       "      <td>1.059700e+10</td>\n",
       "      <td>166.0</td>\n",
       "      <td>17.020280</td>\n",
       "      <td>2.325012e+12</td>\n",
       "      <td>2.663113e+12</td>\n",
       "      <td>2.923466e+12</td>\n",
       "      <td>2.693827e+12</td>\n",
       "      <td>2.646837e+12</td>\n",
       "      <td>2.862680e+12</td>\n",
       "      <td>2.681416e+12</td>\n",
       "      <td>2.808511e+12</td>\n",
       "      <td>2.849305e+12</td>\n",
       "      <td>2.433562e+12</td>\n",
       "    </tr>\n",
       "    <tr>\n",
       "      <th>South Korea</th>\n",
       "      <td>10</td>\n",
       "      <td>14037</td>\n",
       "      <td>13952</td>\n",
       "      <td>151281</td>\n",
       "      <td>29670</td>\n",
       "      <td>10.78</td>\n",
       "      <td>116</td>\n",
       "      <td>6.120000e+08</td>\n",
       "      <td>25.0</td>\n",
       "      <td>70.180290</td>\n",
       "      <td>1.011797e+12</td>\n",
       "      <td>1.122679e+12</td>\n",
       "      <td>1.002219e+12</td>\n",
       "      <td>9.019350e+11</td>\n",
       "      <td>1.094499e+12</td>\n",
       "      <td>1.202464e+12</td>\n",
       "      <td>1.222807e+12</td>\n",
       "      <td>1.305605e+12</td>\n",
       "      <td>1.411334e+12</td>\n",
       "      <td>1.382764e+12</td>\n",
       "    </tr>\n",
       "    <tr>\n",
       "      <th>Italy</th>\n",
       "      <td>11</td>\n",
       "      <td>13662</td>\n",
       "      <td>13457</td>\n",
       "      <td>154242</td>\n",
       "      <td>37030</td>\n",
       "      <td>11.29</td>\n",
       "      <td>121</td>\n",
       "      <td>6.530000e+09</td>\n",
       "      <td>109.0</td>\n",
       "      <td>33.667230</td>\n",
       "      <td>1.942634e+12</td>\n",
       "      <td>2.203053e+12</td>\n",
       "      <td>2.390729e+12</td>\n",
       "      <td>2.185160e+12</td>\n",
       "      <td>2.125058e+12</td>\n",
       "      <td>2.276292e+12</td>\n",
       "      <td>2.072823e+12</td>\n",
       "      <td>2.130491e+12</td>\n",
       "      <td>2.151733e+12</td>\n",
       "      <td>1.824902e+12</td>\n",
       "    </tr>\n",
       "    <tr>\n",
       "      <th>Spain</th>\n",
       "      <td>12</td>\n",
       "      <td>11002</td>\n",
       "      <td>10886</td>\n",
       "      <td>167492</td>\n",
       "      <td>31489</td>\n",
       "      <td>15.22</td>\n",
       "      <td>130</td>\n",
       "      <td>4.923000e+09</td>\n",
       "      <td>106.0</td>\n",
       "      <td>37.968590</td>\n",
       "      <td>1.264551e+12</td>\n",
       "      <td>1.479342e+12</td>\n",
       "      <td>1.634989e+12</td>\n",
       "      <td>1.499075e+12</td>\n",
       "      <td>1.431588e+12</td>\n",
       "      <td>1.488017e+12</td>\n",
       "      <td>1.335946e+12</td>\n",
       "      <td>1.361776e+12</td>\n",
       "      <td>1.375856e+12</td>\n",
       "      <td>1.192955e+12</td>\n",
       "    </tr>\n",
       "    <tr>\n",
       "      <th>Iran</th>\n",
       "      <td>13</td>\n",
       "      <td>10969</td>\n",
       "      <td>10872</td>\n",
       "      <td>94111</td>\n",
       "      <td>31251</td>\n",
       "      <td>8.58</td>\n",
       "      <td>85</td>\n",
       "      <td>9.172000e+09</td>\n",
       "      <td>119.0</td>\n",
       "      <td>5.707721</td>\n",
       "      <td>2.586457e+11</td>\n",
       "      <td>3.374745e+11</td>\n",
       "      <td>3.971896e+11</td>\n",
       "      <td>3.989781e+11</td>\n",
       "      <td>4.677902e+11</td>\n",
       "      <td>5.920378e+11</td>\n",
       "      <td>5.872094e+11</td>\n",
       "      <td>5.116209e+11</td>\n",
       "      <td>4.253261e+11</td>\n",
       "      <td>3.934361e+11</td>\n",
       "    </tr>\n",
       "    <tr>\n",
       "      <th>Australia</th>\n",
       "      <td>14</td>\n",
       "      <td>10616</td>\n",
       "      <td>10496</td>\n",
       "      <td>129788</td>\n",
       "      <td>22759</td>\n",
       "      <td>12.23</td>\n",
       "      <td>123</td>\n",
       "      <td>5.386000e+09</td>\n",
       "      <td>231.0</td>\n",
       "      <td>11.810810</td>\n",
       "      <td>7.475726e+11</td>\n",
       "      <td>8.537646e+11</td>\n",
       "      <td>1.055335e+12</td>\n",
       "      <td>9.271683e+11</td>\n",
       "      <td>1.142877e+12</td>\n",
       "      <td>1.390557e+12</td>\n",
       "      <td>1.538194e+12</td>\n",
       "      <td>1.567179e+12</td>\n",
       "      <td>1.459598e+12</td>\n",
       "      <td>1.345383e+12</td>\n",
       "    </tr>\n",
       "    <tr>\n",
       "      <th>Brazil</th>\n",
       "      <td>15</td>\n",
       "      <td>10599</td>\n",
       "      <td>10521</td>\n",
       "      <td>84010</td>\n",
       "      <td>20271</td>\n",
       "      <td>7.93</td>\n",
       "      <td>97</td>\n",
       "      <td>1.214900e+10</td>\n",
       "      <td>59.0</td>\n",
       "      <td>69.648030</td>\n",
       "      <td>1.107640e+12</td>\n",
       "      <td>1.397084e+12</td>\n",
       "      <td>1.695825e+12</td>\n",
       "      <td>1.667020e+12</td>\n",
       "      <td>2.208872e+12</td>\n",
       "      <td>2.616202e+12</td>\n",
       "      <td>2.465189e+12</td>\n",
       "      <td>2.472807e+12</td>\n",
       "      <td>2.455993e+12</td>\n",
       "      <td>1.803653e+12</td>\n",
       "    </tr>\n",
       "  </tbody>\n",
       "</table>\n",
       "</div>"
      ],
      "text/plain": [
       "                    Rank  Documents  Citable documents  Citations  \\\n",
       "Country                                                             \n",
       "China                  1     147887             147512     856806   \n",
       "United States          2     113579             111426    1085684   \n",
       "Japan                  3      34294              34054     275980   \n",
       "United Kingdom         4      24328              23671     278694   \n",
       "India                  5      21450              21183     179494   \n",
       "Russian Federation     6      21259              20915      45629   \n",
       "Germany                7      20898              20640     193676   \n",
       "Canada                 8      20689              20353     285554   \n",
       "France                 9      15584              15387     173959   \n",
       "South Korea           10      14037              13952     151281   \n",
       "Italy                 11      13662              13457     154242   \n",
       "Spain                 12      11002              10886     167492   \n",
       "Iran                  13      10969              10872      94111   \n",
       "Australia             14      10616              10496     129788   \n",
       "Brazil                15      10599              10521      84010   \n",
       "\n",
       "                    Self-citations  Citations per document  H index  \\\n",
       "Country                                                               \n",
       "China                       583858                    5.79      162   \n",
       "United States               370574                    9.56      259   \n",
       "Japan                        73491                    8.05      145   \n",
       "United Kingdom               52119                   11.46      159   \n",
       "India                        54929                    8.37      132   \n",
       "Russian Federation           17368                    2.15       65   \n",
       "Germany                      39615                    9.27      140   \n",
       "Canada                       53955                   13.80      165   \n",
       "France                       37411                   11.16      129   \n",
       "South Korea                  29670                   10.78      116   \n",
       "Italy                        37030                   11.29      121   \n",
       "Spain                        31489                   15.22      130   \n",
       "Iran                         31251                    8.58       85   \n",
       "Australia                    22759                   12.23      123   \n",
       "Brazil                       20271                    7.93       97   \n",
       "\n",
       "                    Energy Supply  Energy Supply per Capita  % Renewable  \\\n",
       "Country                                                                    \n",
       "China                1.271910e+11                      93.0    19.754910   \n",
       "United States        9.083800e+10                     286.0    11.570980   \n",
       "Japan                1.898400e+10                     149.0    10.232820   \n",
       "United Kingdom       7.920000e+09                     124.0    10.600470   \n",
       "India                3.319500e+10                      26.0    14.969080   \n",
       "Russian Federation   3.070900e+10                     214.0    17.288680   \n",
       "Germany              1.326100e+10                     165.0    17.901530   \n",
       "Canada               1.043100e+10                     296.0    61.945430   \n",
       "France               1.059700e+10                     166.0    17.020280   \n",
       "South Korea          6.120000e+08                      25.0    70.180290   \n",
       "Italy                6.530000e+09                     109.0    33.667230   \n",
       "Spain                4.923000e+09                     106.0    37.968590   \n",
       "Iran                 9.172000e+09                     119.0     5.707721   \n",
       "Australia            5.386000e+09                     231.0    11.810810   \n",
       "Brazil               1.214900e+10                      59.0    69.648030   \n",
       "\n",
       "                            2006          2007          2008          2009  \\\n",
       "Country                                                                      \n",
       "China               2.752132e+12  3.552183e+12  4.598205e+12  5.109954e+12   \n",
       "United States       1.385589e+13  1.447764e+13  1.471858e+13  1.441874e+13   \n",
       "Japan               4.530377e+12  4.515265e+12  5.037908e+12  5.231383e+12   \n",
       "United Kingdom      2.678278e+12  3.063005e+12  2.875463e+12  2.367127e+12   \n",
       "India               9.203165e+11  1.201112e+12  1.186953e+12  1.323940e+12   \n",
       "Russian Federation  9.899305e+11  1.299705e+12  1.660844e+12  1.222644e+12   \n",
       "Germany             3.002446e+12  3.439953e+12  3.752366e+12  3.418005e+12   \n",
       "Canada              1.315415e+12  1.464977e+12  1.549131e+12  1.371153e+12   \n",
       "France              2.325012e+12  2.663113e+12  2.923466e+12  2.693827e+12   \n",
       "South Korea         1.011797e+12  1.122679e+12  1.002219e+12  9.019350e+11   \n",
       "Italy               1.942634e+12  2.203053e+12  2.390729e+12  2.185160e+12   \n",
       "Spain               1.264551e+12  1.479342e+12  1.634989e+12  1.499075e+12   \n",
       "Iran                2.586457e+11  3.374745e+11  3.971896e+11  3.989781e+11   \n",
       "Australia           7.475726e+11  8.537646e+11  1.055335e+12  9.271683e+11   \n",
       "Brazil              1.107640e+12  1.397084e+12  1.695825e+12  1.667020e+12   \n",
       "\n",
       "                            2010          2011          2012          2013  \\\n",
       "Country                                                                      \n",
       "China               6.100620e+12  7.572554e+12  8.560547e+12  9.607224e+12   \n",
       "United States       1.496437e+13  1.551793e+13  1.615526e+13  1.669152e+13   \n",
       "Japan               5.700098e+12  6.157460e+12  6.203213e+12  5.155717e+12   \n",
       "United Kingdom      2.429680e+12  2.608825e+12  2.646003e+12  2.719509e+12   \n",
       "India               1.656617e+12  1.823050e+12  1.827638e+12  1.856722e+12   \n",
       "Russian Federation  1.524916e+12  2.031769e+12  2.170144e+12  2.230625e+12   \n",
       "Germany             3.417095e+12  3.757698e+12  3.543984e+12  3.752514e+12   \n",
       "Canada              1.613464e+12  1.788648e+12  1.824289e+12  1.842628e+12   \n",
       "France              2.646837e+12  2.862680e+12  2.681416e+12  2.808511e+12   \n",
       "South Korea         1.094499e+12  1.202464e+12  1.222807e+12  1.305605e+12   \n",
       "Italy               2.125058e+12  2.276292e+12  2.072823e+12  2.130491e+12   \n",
       "Spain               1.431588e+12  1.488017e+12  1.335946e+12  1.361776e+12   \n",
       "Iran                4.677902e+11  5.920378e+11  5.872094e+11  5.116209e+11   \n",
       "Australia           1.142877e+12  1.390557e+12  1.538194e+12  1.567179e+12   \n",
       "Brazil              2.208872e+12  2.616202e+12  2.465189e+12  2.472807e+12   \n",
       "\n",
       "                            2014          2015  \n",
       "Country                                         \n",
       "China               1.048237e+13  1.106466e+13  \n",
       "United States       1.739310e+13  1.803665e+13  \n",
       "Japan               4.848733e+12  4.383076e+12  \n",
       "United Kingdom      2.998834e+12  2.861091e+12  \n",
       "India               2.035393e+12  2.111751e+12  \n",
       "Russian Federation  2.063662e+12  1.365865e+12  \n",
       "Germany             3.879277e+12  3.363600e+12  \n",
       "Canada              1.792883e+12  1.552808e+12  \n",
       "France              2.849305e+12  2.433562e+12  \n",
       "South Korea         1.411334e+12  1.382764e+12  \n",
       "Italy               2.151733e+12  1.824902e+12  \n",
       "Spain               1.375856e+12  1.192955e+12  \n",
       "Iran                4.253261e+11  3.934361e+11  \n",
       "Australia           1.459598e+12  1.345383e+12  \n",
       "Brazil              2.455993e+12  1.803653e+12  "
      ]
     },
     "execution_count": 11,
     "metadata": {},
     "output_type": "execute_result"
    }
   ],
   "source": [
    "import pandas as pd\n",
    "import numpy as np\n",
    "\n",
    "def load_energy():\n",
    "    energy = pd.read_excel('Energy Indicators.xls', skiprows=18, parse_cols=\"C:F\",skipfooter=38)\n",
    "    energy.columns =['Country', 'Energy Supply', 'Energy Supply per Capita', '% Renewable']\n",
    "    energy.replace(r'\\.+', np.nan, regex=True, inplace=True)\n",
    "    energy['Energy Supply'] = energy['Energy Supply'] * 1000000\n",
    "    energy['Country'] = energy['Country'].str.replace(r\" \\(.*\\)\",\"\")\n",
    "    energy['Country'] = energy['Country'].str.replace(r\"\\d+\", \"\")\n",
    "    energy['Country'] = energy['Country'].str.replace(r'United Kingdom of Great Britain and Northern .*', 'United Kingdom')\n",
    "    energy['Country'] = energy['Country'].str.replace(r'United States of Amer.*', 'United States')\n",
    "    energy['Country'] = energy['Country'].str.replace('Democratic People\\'s Republic of Korea', 'South Korea')\n",
    "   # energy['Country'] = energy['Country'].str.strip()\n",
    "    return energy\n",
    "\n",
    "def load_gdp():\n",
    "    gdp = pd.read_csv('world_bank.csv', skiprows=4)\n",
    "    gdp['Country Name'] = gdp['Country Name'].str.replace('Korea, Rep.', 'South Korea')\n",
    "    gdp['Country Name'] = gdp['Country Name'].str.replace('Hong Kong SAR, China', 'Hong Kong')\n",
    "    gdp['Country Name'] = gdp['Country Name'].str.replace('Iran, Islamic Rep.', 'Iran')\n",
    "    gdp = gdp[['Country Name','2006','2007','2008','2009','2010','2011','2012','2013','2014','2015']]\n",
    "    gdp.columns = ['Country','2006','2007','2008','2009','2010','2011','2012','2013','2014','2015']\n",
    "    return gdp\n",
    "\n",
    "def load_journal():\n",
    "    journal = pd.read_excel('scimagojr-3.xlsx')\n",
    "    journal = journal[:15]\n",
    "    return journal\n",
    "    \n",
    "\n",
    "#print(load_energy().head(1))\n",
    "#print(load_gdp().head(1))\n",
    "#print(load_journal().head(10))\n",
    "\n",
    "def answer_one():\n",
    "    energy = load_energy()\n",
    "    GDP = load_gdp()\n",
    "    ScimEn = load_journal()\n",
    "    #print(energy[energy['Country'] == 'United States'])\n",
    "    merge_e_g = pd.merge(energy, GDP, how='inner', left_on='Country', right_on='Country')\n",
    "    #print(merge_e_g.head(10))\n",
    "    merge_all = pd.merge(merge_e_g, ScimEn, how='inner', left_on='Country', right_on='Country')\n",
    "    merge_ranked = merge_all[merge_all['Rank'] <= 15]\n",
    "    #print(merge_ranked.head(20))\n",
    "    final_result = merge_ranked[['Country', 'Rank', 'Documents', 'Citable documents', 'Citations', 'Self-citations', 'Citations per document', 'H index', 'Energy Supply', 'Energy Supply per Capita', '% Renewable', '2006', '2007', '2008', '2009', '2010', '2011', '2012', '2013', '2014', '2015']]\n",
    "    final_result.set_index('Country', inplace=True)\n",
    "    final_result.sort_values('Rank', inplace=True)\n",
    "    print(final_result.shape)\n",
    "    return final_result\n",
    "\n",
    "answer_one()"
   ]
  },
  {
   "cell_type": "markdown",
   "metadata": {},
   "source": [
    "### Question 2 (6.6%)\n",
    "The previous question joined three datasets then reduced this to just the top 15 entries. When you joined the datasets, but before you reduced this to the top 15 items, how many entries did you lose?\n",
    "\n",
    "*This function should return a single number.*"
   ]
  },
  {
   "cell_type": "code",
   "execution_count": 1,
   "metadata": {},
   "outputs": [
    {
     "data": {
      "text/html": [
       "<svg width=\"800\" height=\"300\">\n",
       "  <circle cx=\"150\" cy=\"180\" r=\"80\" fill-opacity=\"0.2\" stroke=\"black\" stroke-width=\"2\" fill=\"blue\" />\n",
       "  <circle cx=\"200\" cy=\"100\" r=\"80\" fill-opacity=\"0.2\" stroke=\"black\" stroke-width=\"2\" fill=\"red\" />\n",
       "  <circle cx=\"100\" cy=\"100\" r=\"80\" fill-opacity=\"0.2\" stroke=\"black\" stroke-width=\"2\" fill=\"green\" />\n",
       "  <line x1=\"150\" y1=\"125\" x2=\"300\" y2=\"150\" stroke=\"black\" stroke-width=\"2\" fill=\"black\" stroke-dasharray=\"5,3\"/>\n",
       "  <text  x=\"300\" y=\"165\" font-family=\"Verdana\" font-size=\"35\">Everything but this!</text>\n",
       "</svg>"
      ],
      "text/plain": [
       "<IPython.core.display.HTML object>"
      ]
     },
     "metadata": {},
     "output_type": "display_data"
    }
   ],
   "source": [
    "%%HTML\n",
    "<svg width=\"800\" height=\"300\">\n",
    "  <circle cx=\"150\" cy=\"180\" r=\"80\" fill-opacity=\"0.2\" stroke=\"black\" stroke-width=\"2\" fill=\"blue\" />\n",
    "  <circle cx=\"200\" cy=\"100\" r=\"80\" fill-opacity=\"0.2\" stroke=\"black\" stroke-width=\"2\" fill=\"red\" />\n",
    "  <circle cx=\"100\" cy=\"100\" r=\"80\" fill-opacity=\"0.2\" stroke=\"black\" stroke-width=\"2\" fill=\"green\" />\n",
    "  <line x1=\"150\" y1=\"125\" x2=\"300\" y2=\"150\" stroke=\"black\" stroke-width=\"2\" fill=\"black\" stroke-dasharray=\"5,3\"/>\n",
    "  <text  x=\"300\" y=\"165\" font-family=\"Verdana\" font-size=\"35\">Everything but this!</text>\n",
    "</svg>"
   ]
  },
  {
   "cell_type": "code",
   "execution_count": 191,
   "metadata": {},
   "outputs": [
    {
     "name": "stdout",
     "output_type": "stream",
     "text": [
      "161\n"
     ]
    }
   ],
   "source": [
    "import pandas as pd\n",
    "import numpy as np\n",
    "\n",
    "def load_energy():\n",
    "    energy = pd.read_excel('Energy Indicators.xls', skiprows=17, parse_cols=\"C:F\")\n",
    "    energy.columns =['Country', 'Energy Supply', 'Energy Supply per Capita', '% Renewable']\n",
    "    energy.replace(r'\\.+', np.nan, regex=True, inplace=True)\n",
    "    energy['Energy Supply'] = energy['Energy Supply'] * 100000\n",
    "    energy['Country'] = energy['Country'].str.replace(r\"\\(.*\\)\",\"\")\n",
    "    energy['Country'] = energy['Country'].str.replace(r\"\\d+\", \"\")\n",
    "    energy['Country'] = energy['Country'].str.replace(r'United Kingdom of Great Britain and Northern .*', 'United Kingdom')\n",
    "    energy['Country'] = energy['Country'].str.replace(r'United States of Amer.*', 'United States')\n",
    "    energy['Country'] = energy['Country'].str.replace('Democratic People\\'s Republic of Korea', 'South Korea')\n",
    "    energy['Country'] = energy['Country'].str.strip()\n",
    "    return energy\n",
    "\n",
    "def load_gdp():\n",
    "    gdp = pd.read_csv('world_bank.csv', skiprows=4)\n",
    "    gdp['Country Name'] = gdp['Country Name'].str.replace('Korea, Rep.', 'South Korea')\n",
    "    gdp['Country Name'] = gdp['Country Name'].str.replace('Hong Kong SAR, China', 'Hong Kong')\n",
    "    gdp['Country Name'] = gdp['Country Name'].str.replace('Iran, Islamic Rep.', 'Iran')\n",
    "    return gdp\n",
    "\n",
    "def load_journal():\n",
    "    journal = pd.read_excel('scimagojr-3.xlsx')\n",
    "    return journal\n",
    "    \n",
    "\n",
    "#print(load_energy().head(1))\n",
    "#print(load_gdp().head(1))\n",
    "#print(load_journal().head(10))\n",
    "\n",
    "def answer_two():\n",
    "    energy = load_energy()\n",
    "    GDP = load_gdp()\n",
    "    ScimEn = load_journal()\n",
    "    #print(energy[energy['Country'] == 'United States'])\n",
    "    merge_e_g = pd.merge(energy, GDP, how='inner', left_on='Country', right_on='Country Name')\n",
    "    #print(merge_e_g.head(10))\n",
    "    merge_all = pd.merge(merge_e_g, ScimEn, how='inner', left_on='Country', right_on='Country')\n",
    "    #merge_ranked = merge_all[merge_all['Rank'] <= 15]\n",
    "    #print(merge_ranked.head(20))\n",
    "    #final_result = merge_all[['Country', 'Rank', 'Documents', 'Citable documents', 'Citations', 'Self-citations', 'Citations per document', 'H index', 'Energy Supply', 'Energy Supply per Capita', '% Renewable', '2006', '2007', '2008', '2009', '2010', '2011', '2012', '2013', '2014', '2015']]\n",
    "    #final_result.set_index('Country', inplace=True)\n",
    "    #final_result.sort_values('Rank', inplace=True)\n",
    "    return merge_all.shape[0]\n",
    "\n",
    "print(answer_two())\n"
   ]
  },
  {
   "cell_type": "markdown",
   "metadata": {},
   "source": [
    "<br>\n",
    "\n",
    "Answer the following questions in the context of only the top 15 countries by Scimagojr Rank (aka the DataFrame returned by `answer_one()`)"
   ]
  },
  {
   "cell_type": "markdown",
   "metadata": {},
   "source": [
    "### Question 3 (6.6%)\n",
    "What is the average GDP over the last 10 years for each country? (exclude missing values from this calculation.)\n",
    "\n",
    "*This function should return a Series named `avgGDP` with 15 countries and their average GDP sorted in descending order.*"
   ]
  },
  {
   "cell_type": "code",
   "execution_count": 12,
   "metadata": {
    "scrolled": true
   },
   "outputs": [
    {
     "name": "stdout",
     "output_type": "stream",
     "text": [
      "(15, 20)\n",
      "Country\n",
      "United States         1.562297e+13\n",
      "China                 6.940046e+12\n",
      "Japan                 5.176323e+12\n",
      "Germany               3.532694e+12\n",
      "United Kingdom        2.724782e+12\n",
      "France                2.688773e+12\n",
      "Italy                 2.130288e+12\n",
      "Brazil                1.989028e+12\n",
      "Russian Federation    1.656010e+12\n",
      "Canada                1.611540e+12\n",
      "India                 1.594349e+12\n",
      "Spain                 1.406409e+12\n",
      "Australia             1.202763e+12\n",
      "South Korea           1.165810e+12\n",
      "Iran                  4.369708e+11\n",
      "Name: Avg GDP, dtype: float64\n"
     ]
    },
    {
     "name": "stderr",
     "output_type": "stream",
     "text": [
      "/anaconda/lib/python3.6/site-packages/ipykernel_launcher.py:48: SettingWithCopyWarning: \n",
      "A value is trying to be set on a copy of a slice from a DataFrame\n",
      "\n",
      "See the caveats in the documentation: http://pandas.pydata.org/pandas-docs/stable/indexing.html#indexing-view-versus-copy\n"
     ]
    }
   ],
   "source": [
    "def get_avg(row):\n",
    "    data = row[['2006', '2007', '2008', '2009', '2010', '2011', '2012', '2013', '2014', '2015']]\n",
    "    return np.average(data)\n",
    "\n",
    "def answer_three():\n",
    "    Top15 = answer_one().copy()\n",
    "    Top15.fillna(0, inplace=True)\n",
    "    Top15['Avg GDP'] = Top15.apply(get_avg, axis=1)\n",
    "    Top15.sort_values(by='Avg GDP', ascending=False, inplace=True)\n",
    "    return Top15.loc[:,('Avg GDP')]\n",
    "\n",
    "print(answer_three())"
   ]
  },
  {
   "cell_type": "markdown",
   "metadata": {},
   "source": [
    "### Question 4 (6.6%)\n",
    "By how much had the GDP changed over the 10 year span for the country with the 6th largest average GDP?\n",
    "\n",
    "*This function should return a single number.*"
   ]
  },
  {
   "cell_type": "code",
   "execution_count": 146,
   "metadata": {
    "scrolled": true
   },
   "outputs": [
    {
     "name": "stdout",
     "output_type": "stream",
     "text": [
      "(15, 20)\n",
      "(15, 20)\n",
      "108550097313\n"
     ]
    },
    {
     "name": "stderr",
     "output_type": "stream",
     "text": [
      "/anaconda/lib/python3.6/site-packages/ipykernel_launcher.py:45: SettingWithCopyWarning: \n",
      "A value is trying to be set on a copy of a slice from a DataFrame\n",
      "\n",
      "See the caveats in the documentation: http://pandas.pydata.org/pandas-docs/stable/indexing.html#indexing-view-versus-copy\n"
     ]
    }
   ],
   "source": [
    "def answer_four():\n",
    "    Top15 = answer_one()\n",
    "    sixLargestGDP = Top15.loc[answer_three().index[5]]\n",
    "    changed = abs(int(sixLargestGDP['2006']) - int(sixLargestGDP['2015']))\n",
    "    return changed\n",
    "\n",
    "print(answer_four())"
   ]
  },
  {
   "cell_type": "markdown",
   "metadata": {},
   "source": [
    "### Question 5 (6.6%)\n",
    "What is the mean `Energy Supply per Capita`?\n",
    "\n",
    "*This function should return a single number.*"
   ]
  },
  {
   "cell_type": "code",
   "execution_count": 149,
   "metadata": {},
   "outputs": [
    {
     "name": "stdout",
     "output_type": "stream",
     "text": [
      "(15, 20)\n",
      "144.53333333333333\n"
     ]
    },
    {
     "name": "stderr",
     "output_type": "stream",
     "text": [
      "/anaconda/lib/python3.6/site-packages/ipykernel_launcher.py:45: SettingWithCopyWarning: \n",
      "A value is trying to be set on a copy of a slice from a DataFrame\n",
      "\n",
      "See the caveats in the documentation: http://pandas.pydata.org/pandas-docs/stable/indexing.html#indexing-view-versus-copy\n"
     ]
    }
   ],
   "source": [
    "def answer_five():\n",
    "    Top15 = answer_one()\n",
    "    return Top15['Energy Supply per Capita'].mean()\n",
    "\n",
    "print(answer_five())"
   ]
  },
  {
   "cell_type": "markdown",
   "metadata": {},
   "source": [
    "### Question 6 (6.6%)\n",
    "What country has the maximum % Renewable and what is the percentage?\n",
    "\n",
    "*This function should return a tuple with the name of the country and the percentage.*"
   ]
  },
  {
   "cell_type": "code",
   "execution_count": 185,
   "metadata": {},
   "outputs": [
    {
     "name": "stdout",
     "output_type": "stream",
     "text": [
      "(15, 20)\n",
      "0    South Korea\n",
      "1        70.1803\n",
      "dtype: object\n"
     ]
    },
    {
     "name": "stderr",
     "output_type": "stream",
     "text": [
      "/anaconda/lib/python3.6/site-packages/ipykernel_launcher.py:45: SettingWithCopyWarning: \n",
      "A value is trying to be set on a copy of a slice from a DataFrame\n",
      "\n",
      "See the caveats in the documentation: http://pandas.pydata.org/pandas-docs/stable/indexing.html#indexing-view-versus-copy\n"
     ]
    }
   ],
   "source": [
    "def answer_six():\n",
    "    Top15 = answer_one()\n",
    "    maxSeries = Top15.loc[Top15['% Renewable'].idxmax()]\n",
    "    return pd.Series([maxSeries.name, maxSeries['% Renewable']])\n",
    "\n",
    "print(answer_six())"
   ]
  },
  {
   "cell_type": "code",
   "execution_count": 186,
   "metadata": {},
   "outputs": [
    {
     "name": "stdout",
     "output_type": "stream",
     "text": [
      "(15, 20)\n",
      "0    United States\n",
      "1         0.261208\n",
      "dtype: object\n"
     ]
    },
    {
     "name": "stderr",
     "output_type": "stream",
     "text": [
      "/anaconda/lib/python3.6/site-packages/ipykernel_launcher.py:45: SettingWithCopyWarning: \n",
      "A value is trying to be set on a copy of a slice from a DataFrame\n",
      "\n",
      "See the caveats in the documentation: http://pandas.pydata.org/pandas-docs/stable/indexing.html#indexing-view-versus-copy\n"
     ]
    }
   ],
   "source": [
    "def answer_seven():\n",
    "    Top15 = answer_one()\n",
    "    sum = np.sum(Top15['Citations'])\n",
    "    Top15['Ratio Citations'] = Top15['Citations'] / sum\n",
    "    maxSeries = Top15.loc[Top15['Ratio Citations'].idxmax()]\n",
    "    return pd.Series([maxSeries.name, maxSeries['Ratio Citations']])\n",
    "\n",
    "print(answer_seven())"
   ]
  },
  {
   "cell_type": "markdown",
   "metadata": {},
   "source": [
    "### Question 8 (6.6%)\n",
    "\n",
    "Create a column that estimates the population using Energy Supply and Energy Supply per capita. \n",
    "What is the third most populous country according to this estimate?\n",
    "\n",
    "*This function should return a single string value.*"
   ]
  },
  {
   "cell_type": "code",
   "execution_count": 188,
   "metadata": {},
   "outputs": [
    {
     "name": "stdout",
     "output_type": "stream",
     "text": [
      "(15, 20)\n",
      "China\n"
     ]
    },
    {
     "name": "stderr",
     "output_type": "stream",
     "text": [
      "/anaconda/lib/python3.6/site-packages/ipykernel_launcher.py:45: SettingWithCopyWarning: \n",
      "A value is trying to be set on a copy of a slice from a DataFrame\n",
      "\n",
      "See the caveats in the documentation: http://pandas.pydata.org/pandas-docs/stable/indexing.html#indexing-view-versus-copy\n"
     ]
    }
   ],
   "source": [
    "def answer_eight():\n",
    "    Top15 = answer_one()\n",
    "    Top15['Population Estimate'] = Top15['Energy Supply']/ Top15['Energy Supply per Capita']\n",
    "    maxSeries = Top15.loc[Top15['Population Estimate'].idxmax()]\n",
    "    return maxSeries.name\n",
    "\n",
    "print(answer_eight())"
   ]
  },
  {
   "cell_type": "markdown",
   "metadata": {},
   "source": [
    "### Question 9 (6.6%)\n",
    "Create a column that estimates the number of citable documents per person. \n",
    "What is the correlation between the number of citable documents per capita and the energy supply per capita? Use the `.corr()` method, (Pearson's correlation).\n",
    "\n",
    "*This function should return a single number.*\n",
    "\n",
    "*(Optional: Use the built-in function `plot9()` to visualize the relationship between Energy Supply per Capita vs. Citable docs per Capita)*"
   ]
  },
  {
   "cell_type": "code",
   "execution_count": 206,
   "metadata": {},
   "outputs": [
    {
     "name": "stdout",
     "output_type": "stream",
     "text": [
      "(15, 20)\n",
      "0.446913222168\n"
     ]
    },
    {
     "name": "stderr",
     "output_type": "stream",
     "text": [
      "/anaconda/lib/python3.6/site-packages/ipykernel_launcher.py:45: SettingWithCopyWarning: \n",
      "A value is trying to be set on a copy of a slice from a DataFrame\n",
      "\n",
      "See the caveats in the documentation: http://pandas.pydata.org/pandas-docs/stable/indexing.html#indexing-view-versus-copy\n"
     ]
    }
   ],
   "source": [
    "def answer_nine():\n",
    "    Top15 = answer_one()\n",
    "    Top15['Population Estimate'] = Top15['Energy Supply']/ Top15['Energy Supply per Capita']\n",
    "    Top15['Citable per person'] = Top15['Citable documents'] / Top15['Population Estimate']\n",
    "    return Top15['Citable per person'].corr(Top15['Energy Supply per Capita'])\n",
    "\n",
    "print(answer_nine())"
   ]
  },
  {
   "cell_type": "code",
   "execution_count": 209,
   "metadata": {},
   "outputs": [
    {
     "name": "stderr",
     "output_type": "stream",
     "text": [
      "/anaconda/lib/python3.6/site-packages/ipykernel_launcher.py:45: SettingWithCopyWarning: \n",
      "A value is trying to be set on a copy of a slice from a DataFrame\n",
      "\n",
      "See the caveats in the documentation: http://pandas.pydata.org/pandas-docs/stable/indexing.html#indexing-view-versus-copy\n"
     ]
    },
    {
     "name": "stdout",
     "output_type": "stream",
     "text": [
      "(15, 20)\n"
     ]
    },
    {
     "data": {
      "image/png": "[encoded data removed]",
      "text/plain": [
       "<matplotlib.figure.Figure at 0x10dc42d30>"
      ]
     },
     "metadata": {},
     "output_type": "display_data"
    }
   ],
   "source": [
    "def plot9():\n",
    "    import matplotlib as plt\n",
    "    %matplotlib inline\n",
    "    \n",
    "    Top15 = answer_one()\n",
    "    Top15['PopEst'] = Top15['Energy Supply'] / Top15['Energy Supply per Capita']\n",
    "    Top15['Citable docs per Capita'] = Top15['Citable documents'] / Top15['PopEst']\n",
    "    Top15.plot(x='Citable docs per Capita', y='Energy Supply per Capita', kind='scatter', xlim=[0, 0.0006])\n",
    "    \n",
    "plot9()"
   ]
  },
  {
   "cell_type": "code",
   "execution_count": null,
   "metadata": {
    "collapsed": true
   },
   "outputs": [],
   "source": [
    "#plot9() # Be sure to comment out plot9() before submitting the assignment!"
   ]
  },
  {
   "cell_type": "markdown",
   "metadata": {},
   "source": [
    "### Question 10 (6.6%)\n",
    "Create a new column with a 1 if the country's % Renewable value is at or above the median for all countries in the top 15, and a 0 if the country's % Renewable value is below the median.\n",
    "\n",
    "*This function should return a series named `HighRenew` whose index is the country name sorted in ascending order of rank.*"
   ]
  },
  {
   "cell_type": "code",
   "execution_count": 223,
   "metadata": {},
   "outputs": [
    {
     "name": "stdout",
     "output_type": "stream",
     "text": [
      "(15, 20)\n",
      "Country\n",
      "China                 1\n",
      "United States         0\n",
      "Japan                 0\n",
      "United Kingdom        0\n",
      "India                 0\n",
      "Russian Federation    1\n",
      "Germany               1\n",
      "Canada                1\n",
      "France                0\n",
      "South Korea           1\n",
      "Italy                 1\n",
      "Spain                 1\n",
      "Iran                  0\n",
      "Australia             0\n",
      "Brazil                1\n",
      "Name: HighRenew, dtype: int64\n"
     ]
    },
    {
     "name": "stderr",
     "output_type": "stream",
     "text": [
      "/anaconda/lib/python3.6/site-packages/ipykernel_launcher.py:45: SettingWithCopyWarning: \n",
      "A value is trying to be set on a copy of a slice from a DataFrame\n",
      "\n",
      "See the caveats in the documentation: http://pandas.pydata.org/pandas-docs/stable/indexing.html#indexing-view-versus-copy\n"
     ]
    }
   ],
   "source": [
    "def answer_ten():\n",
    "    Top15 = answer_one()\n",
    "    median = Top15['% Renewable'].median()\n",
    "    Top15['HighRenew'] = np.where(Top15['% Renewable'] >= median, 1, 0)\n",
    "    Top15.sort_values(by='Rank', inplace=True)\n",
    "    return Top15['HighRenew']\n",
    "\n",
    "print(answer_ten())"
   ]
  },
  {
   "cell_type": "markdown",
   "metadata": {},
   "source": [
    "### Question 11 (6.6%)\n",
    "Use the following dictionary to group the Countries by Continent, then create a dateframe that displays the sample size (the number of countries in each continent bin), and the sum, mean, and std deviation for the estimated population of each country.\n",
    "\n",
    "```python\n",
    "ContinentDict  = {'China':'Asia', \n",
    "                  'United States':'North America', \n",
    "                  'Japan':'Asia', \n",
    "                  'United Kingdom':'Europe', \n",
    "                  'Russian Federation':'Europe', \n",
    "                  'Canada':'North America', \n",
    "                  'Germany':'Europe', \n",
    "                  'India':'Asia',\n",
    "                  'France':'Europe', \n",
    "                  'South Korea':'Asia', \n",
    "                  'Italy':'Europe', \n",
    "                  'Spain':'Europe', \n",
    "                  'Iran':'Asia',\n",
    "                  'Australia':'Australia', \n",
    "                  'Brazil':'South America'}\n",
    "```\n",
    "\n",
    "*This function should return a DataFrame with index named Continent `['Asia', 'Australia', 'Europe', 'North America', 'South America']` and columns `['size', 'sum', 'mean', 'std']`*"
   ]
  },
  {
   "cell_type": "code",
   "execution_count": 256,
   "metadata": {},
   "outputs": [
    {
     "name": "stdout",
     "output_type": "stream",
     "text": [
      "(15, 20)\n",
      "                        std           sum          mean  size\n",
      "Continent                                                    \n",
      "Asia           6.841144e+07  2.873341e+08  5.746682e+07   5.0\n",
      "Australia      0.000000e+00  2.331602e+06  2.331602e+06   1.0\n",
      "Europe         3.464767e+06  4.579297e+07  7.632161e+06   6.0\n",
      "North America  1.996696e+07  3.528552e+07  1.764276e+07   2.0\n",
      "South America  0.000000e+00  2.059153e+07  2.059153e+07   1.0\n"
     ]
    },
    {
     "name": "stderr",
     "output_type": "stream",
     "text": [
      "/anaconda/lib/python3.6/site-packages/ipykernel_launcher.py:45: SettingWithCopyWarning: \n",
      "A value is trying to be set on a copy of a slice from a DataFrame\n",
      "\n",
      "See the caveats in the documentation: http://pandas.pydata.org/pandas-docs/stable/indexing.html#indexing-view-versus-copy\n",
      "/anaconda/lib/python3.6/site-packages/ipykernel_launcher.py:26: FutureWarning: using a dict on a Series for aggregation\n",
      "is deprecated and will be removed in a future version\n"
     ]
    }
   ],
   "source": [
    "ContinentDict  = {'China':'Asia', \n",
    "                  'United States':'North America', \n",
    "                  'Japan':'Asia', \n",
    "                  'United Kingdom':'Europe', \n",
    "                  'Russian Federation':'Europe', \n",
    "                  'Canada':'North America', \n",
    "                  'Germany':'Europe', \n",
    "                  'India':'Asia',\n",
    "                  'France':'Europe', \n",
    "                  'South Korea':'Asia', \n",
    "                  'Italy':'Europe', \n",
    "                  'Spain':'Europe', \n",
    "                  'Iran':'Asia',\n",
    "                  'Australia':'Australia', \n",
    "                  'Brazil':'South America'}\n",
    "\n",
    "def answer_eleven():\n",
    "    Top15 = answer_one()\n",
    "    Top15['Population Estimate'] = Top15['Energy Supply']/ Top15['Energy Supply per Capita']\n",
    "    continent = pd.DataFrame(pd.Series(ContinentDict))\n",
    "    mergedFrame = pd.merge(continent, Top15, left_index=True, right_index=True)\n",
    "    mergedFrame.rename(index=str, columns={0:'Continent'}, inplace=True)\n",
    "    groupedFrame = mergedFrame.groupby(by='Continent')\n",
    "    \n",
    "    result = (mergedFrame.set_index('Continent').groupby(level=0)['Population Estimate']\n",
    "    .agg({'std': np.std, 'sum': np.sum, 'mean' :np.mean, 'size' : np.size})).fillna(0)\n",
    "    \n",
    "    return result\n",
    "\n",
    "print(answer_eleven())"
   ]
  },
  {
   "cell_type": "markdown",
   "metadata": {},
   "source": [
    "### Question 12 (6.6%)\n",
    "Cut % Renewable into 5 bins. Group Top15 by the Continent, as well as these new % Renewable bins. How many countries are in each of these groups?\n",
    "\n",
    "*This function should return a __Series__ with a MultiIndex of `Continent`, then the bins for `% Renewable`. Do not include groups with no countries.*"
   ]
  },
  {
   "cell_type": "code",
   "execution_count": 271,
   "metadata": {
    "scrolled": true
   },
   "outputs": [
    {
     "name": "stdout",
     "output_type": "stream",
     "text": [
      "(15, 20)\n",
      "<class 'pandas.core.series.Series'>\n",
      "Bins   Continent    \n",
      "Five   Asia             1.0\n",
      "       North America    1.0\n",
      "       South America    1.0\n",
      "One    Asia             3.0\n",
      "       Australia        1.0\n",
      "       Europe           4.0\n",
      "       North America    1.0\n",
      "Three  Europe           2.0\n",
      "Two    Asia             1.0\n",
      "Name: count, dtype: float64\n"
     ]
    },
    {
     "name": "stderr",
     "output_type": "stream",
     "text": [
      "/anaconda/lib/python3.6/site-packages/ipykernel_launcher.py:45: SettingWithCopyWarning: \n",
      "A value is trying to be set on a copy of a slice from a DataFrame\n",
      "\n",
      "See the caveats in the documentation: http://pandas.pydata.org/pandas-docs/stable/indexing.html#indexing-view-versus-copy\n",
      "/anaconda/lib/python3.6/site-packages/ipykernel_launcher.py:26: FutureWarning: using a dict on a Series for aggregation\n",
      "is deprecated and will be removed in a future version\n"
     ]
    }
   ],
   "source": [
    "ContinentDict  = {'China':'Asia', \n",
    "                  'United States':'North America', \n",
    "                  'Japan':'Asia', \n",
    "                  'United Kingdom':'Europe', \n",
    "                  'Russian Federation':'Europe', \n",
    "                  'Canada':'North America', \n",
    "                  'Germany':'Europe', \n",
    "                  'India':'Asia',\n",
    "                  'France':'Europe', \n",
    "                  'South Korea':'Asia', \n",
    "                  'Italy':'Europe', \n",
    "                  'Spain':'Europe', \n",
    "                  'Iran':'Asia',\n",
    "                  'Australia':'Australia', \n",
    "                  'Brazil':'South America'}\n",
    "\n",
    "def answer_twelve():\n",
    "    Top15 = answer_one()\n",
    "    group_names = ['One', 'Two', 'Three', 'Four', 'Five']\n",
    "    Top15['Bins'] =  pd.cut(Top15['% Renewable'],5, labels=group_names)\n",
    "    \n",
    "    \n",
    "    continent = pd.DataFrame(pd.Series(ContinentDict))\n",
    "    mergedFrame = pd.merge(continent, Top15, left_index=True, right_index=True)\n",
    "    mergedFrame.rename(index=str, columns={0:'Continent'}, inplace=True)\n",
    "    mergedGrouped = mergedFrame.groupby(by=['Bins', 'Continent'])['Energy Supply'].agg({'count':np.size})\n",
    "    return mergedGrouped['count']\n",
    "\n",
    "print(answer_twelve())"
   ]
  },
  {
   "cell_type": "markdown",
   "metadata": {},
   "source": [
    "### Question 13 (6.6%)\n",
    "Convert the Population Estimate series to a string with thousands separator (using commas). Do not round the results.\n",
    "\n",
    "e.g. 317615384.61538464 -> 317,615,384.61538464\n",
    "\n",
    "*This function should return a Series `PopEst` whose index is the country name and whose values are the population estimate string.*"
   ]
  },
  {
   "cell_type": "code",
   "execution_count": 294,
   "metadata": {
    "scrolled": true
   },
   "outputs": [
    {
     "name": "stdout",
     "output_type": "stream",
     "text": [
      "(15, 20)\n",
      "Country\n",
      "China                 136,764,516.129032\n",
      "United States          31,761,538.461538\n",
      "Japan                  12,740,939.597315\n",
      "United Kingdom          6,387,096.774194\n",
      "India                 127,673,076.923077\n",
      "Russian Federation     14,350,000.000000\n",
      "Germany                 8,036,969.696970\n",
      "Canada                  3,523,986.486486\n",
      "France                  6,383,734.939759\n",
      "South Korea             2,448,000.000000\n",
      "Italy                   5,990,825.688073\n",
      "Spain                   4,644,339.622642\n",
      "Iran                    7,707,563.025210\n",
      "Australia               2,331,601.731602\n",
      "Brazil                 20,591,525.423729\n",
      "dtype: object\n"
     ]
    },
    {
     "name": "stderr",
     "output_type": "stream",
     "text": [
      "/anaconda/lib/python3.6/site-packages/ipykernel_launcher.py:45: SettingWithCopyWarning: \n",
      "A value is trying to be set on a copy of a slice from a DataFrame\n",
      "\n",
      "See the caveats in the documentation: http://pandas.pydata.org/pandas-docs/stable/indexing.html#indexing-view-versus-copy\n"
     ]
    }
   ],
   "source": [
    "def add_seperator(row):\n",
    "    rowVal = row['Population Estimate']\n",
    "    return '{0:,f}'.format(rowVal)\n",
    "\n",
    "def answer_thirteen():\n",
    "    Top15 = answer_one()\n",
    "    Top15['Population Estimate'] = Top15['Energy Supply']/ Top15['Energy Supply per Capita']\n",
    "    return Top15.apply(add_seperator, axis=1)\n",
    "\n",
    "print(answer_thirteen())"
   ]
  },
  {
   "cell_type": "markdown",
   "metadata": {},
   "source": [
    "### Optional\n",
    "\n",
    "Use the built in function `plot_optional()` to see an example visualization."
   ]
  },
  {
   "cell_type": "code",
   "execution_count": 295,
   "metadata": {
    "collapsed": true,
    "scrolled": true
   },
   "outputs": [],
   "source": [
    "def plot_optional():\n",
    "    import matplotlib as plt\n",
    "    %matplotlib inline\n",
    "    Top15 = answer_one()\n",
    "    ax = Top15.plot(x='Rank', y='% Renewable', kind='scatter', \n",
    "                    c=['#e41a1c','#377eb8','#e41a1c','#4daf4a','#4daf4a','#377eb8','#4daf4a','#e41a1c',\n",
    "                       '#4daf4a','#e41a1c','#4daf4a','#4daf4a','#e41a1c','#dede00','#ff7f00'], \n",
    "                    xticks=range(1,16), s=6*Top15['2014']/10**10, alpha=.75, figsize=[16,6]);\n",
    "\n",
    "    for i, txt in enumerate(Top15.index):\n",
    "        ax.annotate(txt, [Top15['Rank'][i], Top15['% Renewable'][i]], ha='center')\n",
    "\n",
    "    print(\"This is an example of a visualization that can be created to help understand the data. \\\n",
    "This is a bubble chart showing % Renewable vs. Rank. The size of the bubble corresponds to the countries' \\\n",
    "2014 GDP, and the color corresponds to the continent.\")"
   ]
  },
  {
   "cell_type": "code",
   "execution_count": null,
   "metadata": {
    "collapsed": true
   },
   "outputs": [],
   "source": [
    "#plot_optional() # Be sure to comment out plot_optional() before submitting the assignment!"
   ]
  }
 ],
 "metadata": {
  "anaconda-cloud": {},
  "coursera": {
   "course_slug": "python-data-analysis",
   "graded_item_id": "zAr06",
   "launcher_item_id": "KSSjT",
   "part_id": "SL3fU"
  },
  "kernelspec": {
   "display_name": "Python 3",
   "language": "python",
   "name": "python3"
  },
  "language_info": {
   "codemirror_mode": {
    "name": "ipython",
    "version": 3
   },
   "file_extension": ".py",
   "mimetype": "text/x-python",
   "name": "python",
   "nbconvert_exporter": "python",
   "pygments_lexer": "ipython3",
   "version": "3.6.1"
  }
 },
 "nbformat": 4,
 "nbformat_minor": 1
}
